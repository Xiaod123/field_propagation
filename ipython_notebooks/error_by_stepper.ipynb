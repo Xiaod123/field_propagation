{
 "metadata": {
  "name": "",
  "signature": "sha256:7d22027f77b41f3da112b74f8de7f1d36a06a9517682f52ad08448e126f54997"
 },
 "nbformat": 3,
 "nbformat_minor": 0,
 "worksheets": [
  {
   "cells": [
    {
     "cell_type": "code",
     "collapsed": false,
     "input": [
      "import os\n",
      "import mayavi.mlab as mylab\n",
      "import numpy as N\n",
      "import matplotlib.pyplot as plt\n",
      "import math\n",
      "import array\n",
      "from matplotlib import colors\n",
      "import subprocess\n",
      "from subprocess import call\n",
      "import matplotlib.patches as mpatches"
     ],
     "language": "python",
     "metadata": {},
     "outputs": [],
     "prompt_number": 22
    },
    {
     "cell_type": "code",
     "collapsed": false,
     "input": [
      "def pos_mag(v):\n",
      "    return math.sqrt( v[2]**2 + v[3]**2 + v[4]**2 )\n",
      "def mom_mag(v):\n",
      "    return math.sqrt( v[5]**2 + v[6]**2 + v[7]**2 )"
     ],
     "language": "python",
     "metadata": {},
     "outputs": [],
     "prompt_number": 18
    },
    {
     "cell_type": "code",
     "collapsed": false,
     "input": [
      "def pos_relative_error_entry(A, A_tPMF, i):\n",
      "    #A_tPMF is the approximating solution, A is the component wise difference from the \"exact\" solution\n",
      "    # thus, p is the components of the \"exact\" solution:\n",
      "    p = (A_tPMF[i][2] - A[i][2], A_tPMF[i][3] - A[i][3], A_tPMF[i][4] - A[i][4])\n",
      "    return pos_mag(A[i]) / math.sqrt( p[0]**2 + p[1]**2 + p[2]**2 )\n",
      "def mom_relative_error_entry(A, A_tPMF, i):\n",
      "    #A_tPMF is the approximating solution, A is the component wise difference from the \"exact\" solution\n",
      "    #at the intepolating time.\n",
      "    # thus, p is the components of the \"exact\" solution:\n",
      "    p = (A_tPMF[i][5] - A[i][5], A_tPMF[i][6] - A[i][6], A_tPMF[i][7] - A[i][7])\n",
      "    return mom_mag(A[i]) / math.sqrt( p[0]**2 + p[1]**2 + p[2]**2 )"
     ],
     "language": "python",
     "metadata": {},
     "outputs": [],
     "prompt_number": 25
    },
    {
     "cell_type": "code",
     "collapsed": false,
     "input": [],
     "language": "python",
     "metadata": {},
     "outputs": []
    },
    {
     "cell_type": "code",
     "collapsed": false,
     "input": [],
     "language": "python",
     "metadata": {},
     "outputs": []
    },
    {
     "cell_type": "code",
     "collapsed": false,
     "input": [
      "os.chdir('../more_testing/ClassicalRK4_as_baseline/1st/')"
     ],
     "language": "python",
     "metadata": {},
     "outputs": [
      {
       "ename": "OSError",
       "evalue": "[Errno 2] No such file or directory: '../more_testing/ClassicalRK4_as_baseline/1st/'",
       "output_type": "pyerr",
       "traceback": [
        "\u001b[1;31m---------------------------------------------------------------------------\u001b[0m\n\u001b[1;31mOSError\u001b[0m                                   Traceback (most recent call last)",
        "\u001b[1;32m<ipython-input-19-2ade2ec57f01>\u001b[0m in \u001b[0;36m<module>\u001b[1;34m()\u001b[0m\n\u001b[1;32m----> 1\u001b[1;33m \u001b[0mos\u001b[0m\u001b[1;33m.\u001b[0m\u001b[0mchdir\u001b[0m\u001b[1;33m(\u001b[0m\u001b[1;34m'../more_testing/ClassicalRK4_as_baseline/1st/'\u001b[0m\u001b[1;33m)\u001b[0m\u001b[1;33m\u001b[0m\u001b[0m\n\u001b[0m",
        "\u001b[1;31mOSError\u001b[0m: [Errno 2] No such file or directory: '../more_testing/ClassicalRK4_as_baseline/1st/'"
       ]
      }
     ],
     "prompt_number": 19
    },
    {
     "cell_type": "code",
     "collapsed": false,
     "input": [
      "os.chdir('../point_100_100_0/')"
     ],
     "language": "python",
     "metadata": {},
     "outputs": [],
     "prompt_number": 28
    },
    {
     "cell_type": "code",
     "collapsed": false,
     "input": [
      "cmd = '../../../field_propagation-build/test/testTemplated/testPropagateMagField 5 2.0 100000 2.0'\n",
      "subprocess.check_call(cmd, shell = True)"
     ],
     "language": "python",
     "metadata": {},
     "outputs": [
      {
       "metadata": {},
       "output_type": "pyout",
       "prompt_number": 39,
       "text": [
        "0"
       ]
      }
     ],
     "prompt_number": 39
    },
    {
     "cell_type": "code",
     "collapsed": false,
     "input": [
      "os.rename('tPMF_output1', 'out_base_to_compare')\n",
      "os.rename( 'tPMF_overshoot_segments1', 'overshoot_segments' )\n",
      "os.rename( 'tPMF_meta_output1', 'meta_output')"
     ],
     "language": "python",
     "metadata": {},
     "outputs": [],
     "prompt_number": 40
    },
    {
     "cell_type": "code",
     "collapsed": false,
     "input": [
      "f = open('meta_output')\n",
      "Base_Step_No = int( f.readline() )\n",
      "num_overshoot = int( f.readline() )\n",
      "f.close()"
     ],
     "language": "python",
     "metadata": {},
     "outputs": [],
     "prompt_number": 41
    },
    {
     "cell_type": "code",
     "collapsed": false,
     "input": [
      "compute_distance_step_length = 2000.0\n",
      "no_compute_steps = 10\n",
      "#Base_Step_No = 100000\n",
      "mass = 1049.020001226783279\n",
      "(Base_Step_No, num_overshoot)"
     ],
     "language": "python",
     "metadata": {},
     "outputs": [
      {
       "metadata": {},
       "output_type": "pyout",
       "prompt_number": 42,
       "text": [
        "(99987, 13)"
       ]
      }
     ],
     "prompt_number": 42
    },
    {
     "cell_type": "code",
     "collapsed": false,
     "input": [],
     "language": "python",
     "metadata": {},
     "outputs": []
    },
    {
     "cell_type": "code",
     "collapsed": false,
     "input": [
      "def get_interpolated_error_with_tPMF_baseline( stepper_no, Base_Step_No, num_overshoot ):\n",
      "    cmd_list = ['../../../field_propagation-build/test/testTemplated/testPropagateMagField']\n",
      "    cmd_list += [ str(stepper_no), str(compute_distance_step_length), str(no_compute_steps) ]\n",
      "    subprocess.check_call( cmd_list )\n",
      "    f = open('tPMF_meta_output1')\n",
      "    no_steps_tPMF = int( f.readline() )\n",
      "    f.close()\n",
      "    #\n",
      "    f = open('tPMF_output1', mode = 'rb')\n",
      "    binvals = array.array('d')\n",
      "    binvals.read(f, no_steps_tPMF * (28))\n",
      "    data = N.array(binvals, dtype = float)\n",
      "    f.close()\n",
      "    #\n",
      "    A_tPMF = [ [None for j in range(28)] for i in range(no_steps_tPMF)]\n",
      "    counter = 0\n",
      "    for i in range(no_steps_tPMF):\n",
      "        for j in range(28):\n",
      "            A_tPMF[i][j] = data[counter]\n",
      "            counter += 1\n",
      "    #\n",
      "    cmd_list = ['../../../field_propagation-build/test/error_by_stepper/error_by_stepper']\n",
      "    cmd_list += [ str(Base_Step_No), str(num_overshoot) , str(no_steps_tPMF), 'out_base_to_compare', 'tPMF_output1', 'error']\n",
      "    cmd_list += [ 'overshoot_segments' ]\n",
      "    subprocess.check_call( cmd_list )\n",
      "    #\n",
      "    f = open('interpolation_error_metafile')\n",
      "    no_plot_steps = int( f.readline() )\n",
      "    f.close()\n",
      "    #\n",
      "    no_interpolated = no_plot_steps\n",
      "    #\n",
      "    f = open( 'error', mode = 'rb')\n",
      "    binvals = array.array('d')\n",
      "    binvals.read(f, no_interpolated * (2 + 6))\n",
      "    data = N.array(binvals, dtype = float)\n",
      "    f.close()\n",
      "    #\n",
      "    A = [ [None for j in range(2 + 6)] for i in range(no_interpolated)]\n",
      "    counter = 0\n",
      "    for i in range(no_interpolated):\n",
      "        for j in range(2 + 6):\n",
      "            A[i][j] = data[counter]\n",
      "            counter += 1\n",
      "    #\n",
      "    function_evals = []\n",
      "    f = open('tPMF_no_function_calls1')\n",
      "    for i in range(no_interpolated):\n",
      "        function_evals += [int(f.readline())]\n",
      "    f.close()\n",
      "\n",
      "    return (A, function_evals, A_tPMF)\n",
      "\n",
      "\n",
      "\n"
     ],
     "language": "python",
     "metadata": {},
     "outputs": [],
     "prompt_number": 43
    },
    {
     "cell_type": "code",
     "collapsed": false,
     "input": [],
     "language": "python",
     "metadata": {},
     "outputs": []
    },
    {
     "cell_type": "code",
     "collapsed": false,
     "input": [],
     "language": "python",
     "metadata": {},
     "outputs": []
    },
    {
     "cell_type": "code",
     "collapsed": false,
     "input": [
      "stepper_choices = [ (0, 'Murua5459'), (1, 'Fine45'), (4, 'CashKarp45'), (5, 'ClassicalRK4'), (7, 'DormandPrince745')]"
     ],
     "language": "python",
     "metadata": {},
     "outputs": [],
     "prompt_number": 34
    },
    {
     "cell_type": "code",
     "collapsed": false,
     "input": [
      "steppers_big_data_list = []\n",
      "for i, name in stepper_choices:\n",
      "    steppers_big_data_list += [get_interpolated_error_with_tPMF_baseline(i, Base_Step_No, num_overshoot )]"
     ],
     "language": "python",
     "metadata": {},
     "outputs": [],
     "prompt_number": 44
    },
    {
     "cell_type": "code",
     "collapsed": false,
     "input": [],
     "language": "python",
     "metadata": {},
     "outputs": []
    },
    {
     "cell_type": "code",
     "collapsed": false,
     "input": [
      "cutoff_list = map( lambda k: len(k[0]), steppers_big_data_list )\n",
      "cutoff_list"
     ],
     "language": "python",
     "metadata": {},
     "outputs": [
      {
       "metadata": {},
       "output_type": "pyout",
       "prompt_number": 45,
       "text": [
        "[695, 395, 396, 648, 396]"
       ]
      }
     ],
     "prompt_number": 45
    },
    {
     "cell_type": "code",
     "collapsed": false,
     "input": [],
     "language": "python",
     "metadata": {},
     "outputs": []
    },
    {
     "cell_type": "code",
     "collapsed": false,
     "input": [],
     "language": "python",
     "metadata": {},
     "outputs": []
    },
    {
     "cell_type": "code",
     "collapsed": false,
     "input": [
      "MM = 5\n",
      "plt.figure()\n",
      "counter = 0\n",
      "#cutoff = 500\n",
      "\n",
      "for A, t, A_tPMF in steppers_big_data_list[:MM]:\n",
      "    colors = ['b', 'g', 'r', 'c', 'm', 'y', 'k', 'w']\n",
      "    P = [ math.sqrt( sum([A[i][2 + k]**2 for k in range(3)]) ) for i in range(cutoff_list[counter])]\n",
      "    plt.plot( [A[i][1] for i in range(cutoff_list[counter])], P, colors[counter]  )\n",
      "    counter += 1\n",
      "plt.title('Position Error vs. ArcLength, initial step dist.: ' + str(compute_distance_step_length))\n",
      "patches = []\n",
      "for i in range(len(stepper_choices[:MM])):\n",
      "    patches += [mpatches.Patch(color = colors[i], label = stepper_choices[i][1])]\n",
      "plt.legend( patches, [stepper_choices[i][1] for i in range(len(stepper_choices))], loc = 2)\n",
      "plt.show()\n",
      "\n",
      "plt.figure()\n",
      "counter = 0\n",
      "for A, t, A_tPMF in steppers_big_data_list[:MM]:\n",
      "    colors = ['b', 'g', 'r', 'c', 'm', 'y', 'k', 'w']\n",
      "    V = [ mass*math.sqrt( sum([A[i][2 + k]**2 for k in range(3,6)]) ) for i in range(cutoff_list[counter])]\n",
      "    plt.plot( [A[i][1] for i in range(cutoff_list[counter])], V, colors[counter]  )\n",
      "    counter += 1\n",
      "plt.title('Momentum Error vs. ArcLength, initial step dist.: ' + str(compute_distance_step_length))\n",
      "patches = []\n",
      "for i in range(len(stepper_choices[:MM])):\n",
      "    patches += [mpatches.Patch(color = colors[i], label = stepper_choices[i][1])]\n",
      "plt.legend( patches, [stepper_choices[i][1] for i in range(len(stepper_choices))], loc = 2)\n",
      "plt.show()\n",
      "\n",
      "\n",
      "\n",
      "plt.figure()\n",
      "counter = 0\n",
      "for A, function_evals, A_tPMF in steppers_big_data_list[:MM]:\n",
      "    colors = ['b', 'g', 'r', 'c', 'm', 'y', 'k', 'w']\n",
      "    plt.plot( [A[i][1] for i in range(cutoff_list[counter])], function_evals[:cutoff_list[counter]], colors[counter] )\n",
      "    counter += 1\n",
      "plt.title('No. Function Calls vs. ArcLength, initial step dist.: ' + str(compute_distance_step_length))\n",
      "patches = []\n",
      "for i in range(len(stepper_choices[:MM])):\n",
      "    patches += [mpatches.Patch(color = colors[i], label = stepper_choices[i][1])]\n",
      "plt.legend( patches, [stepper_choices[i][1] for i in range(len(stepper_choices))], loc = 2)\n",
      "plt.show()\n",
      "    \n",
      "    \n",
      "    "
     ],
     "language": "python",
     "metadata": {},
     "outputs": [],
     "prompt_number": 23
    },
    {
     "cell_type": "code",
     "collapsed": false,
     "input": [],
     "language": "python",
     "metadata": {},
     "outputs": []
    },
    {
     "cell_type": "code",
     "collapsed": false,
     "input": [
      "#Mass factor doesn't matter for relative error \n",
      "#it appears on both sides of the fraction in (Error in Momentum)/(Magnitude of Momentum of True Solution)\n",
      "\n",
      "MM = 5\n",
      "plt.figure()\n",
      "counter = 0\n",
      "#cutoff = 500\n",
      "\n",
      "for A, t, A_tPMF in steppers_big_data_list[:MM]:\n",
      "    colors = ['b', 'g', 'r', 'c', 'm', 'y', 'k', 'w']\n",
      "    P = [ pos_relative_error_entry(A,A_tPMF,i) for i in range(cutoff_list[counter])]\n",
      "    plt.plot( [A[i][1] for i in range(cutoff_list[counter])], P, colors[counter]  )\n",
      "    counter += 1\n",
      "plt.title('Position Rel. Error vs. ArcLength, initial step dist.: ' + str(compute_distance_step_length))\n",
      "patches = []\n",
      "for i in range(len(stepper_choices[:MM])):\n",
      "    patches += [mpatches.Patch(color = colors[i], label = stepper_choices[i][1])]\n",
      "plt.legend( patches, [stepper_choices[i][1] for i in range(len(stepper_choices))], loc = 2)\n",
      "plt.show()\n",
      "\n",
      "plt.figure()\n",
      "counter = 0\n",
      "for A, t, A_tPMF in steppers_big_data_list[:MM]:\n",
      "    colors = ['b', 'g', 'r', 'c', 'm', 'y', 'k', 'w']\n",
      "    V = [ mom_relative_error_entry(A,A_tPMF,i) for i in range(cutoff_list[counter])]\n",
      "    plt.plot( [A[i][1] for i in range(cutoff_list[counter])], V, colors[counter]  )\n",
      "    counter += 1\n",
      "plt.title('Momentum Rel. Error vs. ArcLength, initial step dist.: ' + str(compute_distance_step_length))\n",
      "patches = []\n",
      "for i in range(len(stepper_choices[:MM])):\n",
      "    patches += [mpatches.Patch(color = colors[i], label = stepper_choices[i][1])]\n",
      "plt.legend( patches, [stepper_choices[i][1] for i in range(len(stepper_choices))], loc = 2)\n",
      "plt.show()"
     ],
     "language": "python",
     "metadata": {},
     "outputs": [],
     "prompt_number": 46
    },
    {
     "cell_type": "code",
     "collapsed": false,
     "input": [],
     "language": "python",
     "metadata": {},
     "outputs": []
    },
    {
     "cell_type": "code",
     "collapsed": false,
     "input": [],
     "language": "python",
     "metadata": {},
     "outputs": []
    },
    {
     "cell_type": "code",
     "collapsed": false,
     "input": [],
     "language": "python",
     "metadata": {},
     "outputs": []
    },
    {
     "cell_type": "code",
     "collapsed": false,
     "input": [],
     "language": "python",
     "metadata": {},
     "outputs": []
    }
   ],
   "metadata": {}
  }
 ]
}