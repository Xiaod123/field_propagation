{
 "metadata": {
  "name": "",
  "signature": "sha256:64b236874de396591bcacb4c03fda4f8a3b67bbb6b2ac8645379da0f669c913c"
 },
 "nbformat": 3,
 "nbformat_minor": 0,
 "worksheets": [
  {
   "cells": [
    {
     "cell_type": "code",
     "collapsed": false,
     "input": [
      "#This is for MuruaRKN5459"
     ],
     "language": "python",
     "metadata": {},
     "outputs": []
    },
    {
     "cell_type": "code",
     "collapsed": false,
     "input": [
      "s = 9\n",
      "\n",
      "a = [[-1 for j in range(s+2)] for i in range(s+2)]\n",
      "alpha =[[-1 for j in range(s+2)] for i in range(s+2)]\n",
      "c = [-1 for i in range(s+2)]\n",
      "b = [-1 for i in range(s+2)]\n",
      "b_hat = [-1 for i in range(s+2)]\n",
      "beta = [-1 for i in range(s+2)]\n",
      "beta_hat = [-1 for i in range(s+2)]\n",
      "\n",
      "for i in range(s+2):\n",
      "    for j in range(s+2):\n",
      "        alpha[i][j] = 'alpha' + str(i) + str(j) # Assume i and j not > 9.\n",
      "        a[i][j] = 'a' + str(i) + str(j)\n",
      "    c[i] = 'c' + str(i)\n",
      "    b[i] = 'b' + str(i)\n",
      "    b_hat[i] = 'b_hat' + str(i)\n",
      "    beta[i] = 'beta' + str(i)\n",
      "    beta_hat[i] = 'beta_hat' + str(i)"
     ],
     "language": "python",
     "metadata": {},
     "outputs": [],
     "prompt_number": 1
    },
    {
     "cell_type": "code",
     "collapsed": false,
     "input": [
      "Vdot = [-1 for i in range(s+2)]\n",
      "for j in range(s+2):\n",
      "    Vdot[j] = 'Vdot' + str(j) + '[k+3]'\n",
      "Q = 'ytemp[k]'\n",
      "V = 'ytemp[k + 3]'"
     ],
     "language": "python",
     "metadata": {},
     "outputs": [],
     "prompt_number": 2
    },
    {
     "cell_type": "code",
     "collapsed": false,
     "input": [
      "A_i2_nums = [771,-9458865980,-2470367896,281630106828,-39924138556,-22636373880,72032427203]\n",
      "A_i2_denoms = [7694,12714902623,7636570485,143708239525,8175090533,4795132451,6782716235]"
     ],
     "language": "python",
     "metadata": {},
     "outputs": [],
     "prompt_number": 16
    },
    {
     "cell_type": "code",
     "collapsed": false,
     "input": [
      "a_ij_numerators = '''771\n",
      "         771 771\n",
      "         -264272222 -9458865980 17133165419\n",
      "         1943604853 -2470367896 1733951147 4613437932\n",
      "         369952551 281630106828 -9868262031 208606720 792516107\n",
      "         -2089737154 -39924138556 72922890855 9484193351 -17895265139 278232\n",
      "         -1762013041 -22636373880 30527401913 11564353310 -50677425731 12408 10722067\n",
      "         8034174097 72032427203 -90566218637 18770105843 28010344030 -21917292279 -236637914115 71217630373'''"
     ],
     "language": "python",
     "metadata": {},
     "outputs": [],
     "prompt_number": 3
    },
    {
     "cell_type": "code",
     "collapsed": false,
     "input": [
      "a_ij_denominators = '''3847\n",
      "         7694 7694\n",
      "         4845505509 12714902623 13729279360\n",
      "         18116134489 7636570485 3918733571 10523350595\n",
      "         2046485744 143708239525 5606899429 5597531799 3209667255\n",
      "         15083636501 8175090533 14010113917 15493195043 12412283353 177835\n",
      "         13188190032 4795132451 6048941340 19632283007 36595197965 8167 5782709432\n",
      "         12261534992 6782716235 8185393121 41171085325 6199889941 4540377286 8183370127 2409299224'''"
     ],
     "language": "python",
     "metadata": {},
     "outputs": [],
     "prompt_number": 12
    },
    {
     "cell_type": "code",
     "collapsed": false,
     "input": [
      "a_ij_numerators_list = a_ij_numerators.split()"
     ],
     "language": "python",
     "metadata": {},
     "outputs": [],
     "prompt_number": 5
    },
    {
     "cell_type": "code",
     "collapsed": false,
     "input": [
      "a_ij_denominators_list"
     ],
     "language": "python",
     "metadata": {},
     "outputs": [
      {
       "metadata": {},
       "output_type": "pyout",
       "prompt_number": 11,
       "text": [
        "['3847',\n",
        " '7694',\n",
        " '7694',\n",
        " '4845505509',\n",
        " '12714902623',\n",
        " '13729279360',\n",
        " '18116134489',\n",
        " '7636570485',\n",
        " '3918733571',\n",
        " '10523350595',\n",
        " '2046485744',\n",
        " '143708239525',\n",
        " '5606899429',\n",
        " '5597531799',\n",
        " '3209667255',\n",
        " '15083636501',\n",
        " '8175090533',\n",
        " '14010113917',\n",
        " '15493195043',\n",
        " '12412283353',\n",
        " '177835',\n",
        " '13188190032',\n",
        " '4795132451',\n",
        " '6048941340',\n",
        " '19632283007',\n",
        " '36595197965',\n",
        " '8167',\n",
        " '8183370127',\n",
        " '2409299224']"
       ]
      }
     ],
     "prompt_number": 11
    },
    {
     "cell_type": "code",
     "collapsed": false,
     "input": [
      "a_ij_denominators_list = a_ij_denominators.split()"
     ],
     "language": "python",
     "metadata": {},
     "outputs": [],
     "prompt_number": 13
    },
    {
     "cell_type": "code",
     "collapsed": false,
     "input": [
      "len(a_ij_denominators_list)"
     ],
     "language": "python",
     "metadata": {},
     "outputs": [
      {
       "metadata": {},
       "output_type": "pyout",
       "prompt_number": 10,
       "text": [
        "29"
       ]
      }
     ],
     "prompt_number": 10
    },
    {
     "cell_type": "code",
     "collapsed": false,
     "input": [
      "counter = 0\n",
      "for i in range(1,10):\n",
      "    a_ij_str = ''\n",
      "    for j in range(1,i):\n",
      "        a_ij_str += 'a' + str(i) + str(j) + ' = ' + a_ij_numerators_list[counter] \\\n",
      "        + './' + a_ij_denominators_list[counter] + '., '\n",
      "        counter += 1\n",
      "    print a_ij_str"
     ],
     "language": "python",
     "metadata": {},
     "outputs": [
      {
       "output_type": "stream",
       "stream": "stdout",
       "text": [
        "\n",
        "a21 = 771./3847., \n",
        "a31 = 771./7694., a32 = 771./7694., \n",
        "a41 = -264272222./4845505509., a42 = -9458865980./12714902623., a43 = 17133165419./13729279360., \n",
        "a51 = 1943604853./18116134489., a52 = -2470367896./7636570485., a53 = 1733951147./3918733571., a54 = 4613437932./10523350595., \n",
        "a61 = 369952551./2046485744., a62 = 281630106828./143708239525., a63 = -9868262031./5606899429., a64 = 208606720./5597531799., a65 = 792516107./3209667255., \n",
        "a71 = -2089737154./15083636501., a72 = -39924138556./8175090533., a73 = 72922890855./14010113917., a74 = 9484193351./15493195043., a75 = -17895265139./12412283353., a76 = 278232./177835., \n",
        "a81 = -1762013041./13188190032., a82 = -22636373880./4795132451., a83 = 30527401913./6048941340., a84 = 11564353310./19632283007., a85 = -50677425731./36595197965., a86 = 12408./8167., a87 = 10722067./5782709432., \n",
        "a91 = 8034174097./12261534992., a92 = 72032427203./6782716235., a93 = -90566218637./8185393121., a94 = 18770105843./41171085325., a95 = 28010344030./6199889941., a96 = -21917292279./4540377286., a97 = -236637914115./8183370127., a98 = 71217630373./2409299224., \n"
       ]
      }
     ],
     "prompt_number": 14
    },
    {
     "cell_type": "code",
     "collapsed": false,
     "input": [
      "alpha_ij_numerators = '''594441\n",
      "         594441 0\n",
      "         -311625081 128 1015645524\n",
      "         1852480471 -247 648800762 519849979\n",
      "         1852480471 -247 648800762 519849979 0\n",
      "         229929851 113395809 4865737279 340133672 738 509108839\n",
      "         229929851 113395809 4865737279 340133672 738 509108839 0\n",
      "         164505448 0 9357192 736403089 960089 482653907 -47281957 6715245221'''"
     ],
     "language": "python",
     "metadata": {},
     "outputs": [],
     "prompt_number": 58
    },
    {
     "cell_type": "code",
     "collapsed": false,
     "input": [
      "alpha_ij_denominators = '''29598818\n",
      "         29598818 1\n",
      "         28869248936 8219 10554116159\n",
      "         26299626569 14069 5897141541 8963946221\n",
      "         26299626569 14069 5897141541 8963946221 1\n",
      "         7158517178 8665398238 19748497543 10137556453 11587 15737542787\n",
      "         7158517178 8665398238 19748497543 10137556453 11587 15737542787 1\n",
      "         2653157365 1 40412735 7677655029 17896194 11393392643 150822000 20471724521'''"
     ],
     "language": "python",
     "metadata": {},
     "outputs": [],
     "prompt_number": 59
    },
    {
     "cell_type": "code",
     "collapsed": false,
     "input": [
      "alpha_ij_numerators_list = alpha_ij_numerators.split()\n",
      "alpha_ij_denominators_list = alpha_ij_denominators.split()"
     ],
     "language": "python",
     "metadata": {},
     "outputs": [],
     "prompt_number": 60
    },
    {
     "cell_type": "code",
     "collapsed": false,
     "input": [
      "alpha_ij_str = ''\n",
      "counter = 0\n",
      "for i in range(1,10):\n",
      "    alpha_ij_str = ''\n",
      "    for j in range(1,i):\n",
      "        alpha_ij_str += 'alpha' + str(i) + str(j) + ' = ' + alpha_ij_numerators_list[counter] \\\n",
      "        + './' + alpha_ij_denominators_list[counter] + '., '\n",
      "        counter += 1\n",
      "    print alpha_ij_str"
     ],
     "language": "python",
     "metadata": {},
     "outputs": [
      {
       "output_type": "stream",
       "stream": "stdout",
       "text": [
        "\n",
        "alpha21 = 594441./29598818., \n",
        "alpha31 = 594441./29598818., alpha32 = 0./1., \n",
        "alpha41 = -311625081./28869248936., alpha42 = 128./8219., alpha43 = 1015645524./10554116159., \n",
        "alpha51 = 1852480471./26299626569., alpha52 = -247./14069., alpha53 = 648800762./5897141541., alpha54 = 519849979./8963946221., \n",
        "alpha61 = 1852480471./26299626569., alpha62 = -247./14069., alpha63 = 648800762./5897141541., alpha64 = 519849979./8963946221., alpha65 = 0./1., \n",
        "alpha71 = 229929851./7158517178., alpha72 = 113395809./8665398238., alpha73 = 4865737279./19748497543., alpha74 = 340133672./10137556453., alpha75 = 738./11587., alpha76 = 509108839./15737542787., \n",
        "alpha81 = 229929851./7158517178., alpha82 = 113395809./8665398238., alpha83 = 4865737279./19748497543., alpha84 = 340133672./10137556453., alpha85 = 738./11587., alpha86 = 509108839./15737542787., alpha87 = 0./1., \n",
        "alpha91 = 164505448./2653157365., alpha92 = 0./1., alpha93 = 9357192./40412735., alpha94 = 736403089./7677655029., alpha95 = 960089./17896194., alpha96 = 482653907./11393392643., alpha97 = -47281957./150822000., alpha98 = 6715245221./20471724521., \n"
       ]
      }
     ],
     "prompt_number": 61
    },
    {
     "cell_type": "code",
     "collapsed": false,
     "input": [
      "b_i_numerators = '164505448 0 3042 1586146904 4394 2081836558 -50461 13928550541 91464477'\n",
      "b_i_denominators = '2653157365 1 10505 9104113535 27465 16479128289 13230 3490062596 8242174145'\n",
      "b_hat_i_numerators = ''\n",
      "b_hat_i_denominators = '157500 1 45000 90000 3218675 62500 3004097250000 1 5 150 100'"
     ],
     "language": "python",
     "metadata": {},
     "outputs": [],
     "prompt_number": 17
    },
    {
     "cell_type": "code",
     "collapsed": false,
     "input": [
      "b_i_nums_list = b_i_numerators.split()\n",
      "b_i_denoms_list = b_i_denominators.split()\n",
      "#b_hat_i_nums_list = b_hat_i_numerators.split()\n",
      "#b_hat_i_denoms_list = b_hat_i__denominators.split()"
     ],
     "language": "python",
     "metadata": {},
     "outputs": [],
     "prompt_number": 18
    },
    {
     "cell_type": "code",
     "collapsed": false,
     "input": [
      "b_i_str = ''\n",
      "for i in range(9):\n",
      "    b_i_str += ' b' + str(i+1) + ' = ' + b_i_nums_list[i] + './' + b_i_denoms_list[i] + '.,'\n",
      "b_i_str"
     ],
     "language": "python",
     "metadata": {},
     "outputs": [
      {
       "metadata": {},
       "output_type": "pyout",
       "prompt_number": 19,
       "text": [
        "' b1 = 164505448./2653157365., b2 = 0./1., b3 = 3042./10505., b4 = 1586146904./9104113535., b5 = 4394./27465., b6 = 2081836558./16479128289., b7 = -50461./13230., b8 = 13928550541./3490062596., b9 = 91464477./8242174145.,'"
       ]
      }
     ],
     "prompt_number": 19
    },
    {
     "cell_type": "code",
     "collapsed": false,
     "input": [],
     "language": "python",
     "metadata": {},
     "outputs": [],
     "prompt_number": 2
    },
    {
     "cell_type": "code",
     "collapsed": false,
     "input": [
      "beta_i_numerators = '164505448 0 9357192 736403089 960089 482653907 -47281957 6715245221'\n",
      "beta_i_denominators = '2653157365 1 40412735 7677655029 17896194 11393392643 150822000 20471724521'\n",
      "beta_i_nums_list = beta_i_numerators.split()\n",
      "beta_i_denoms_list = beta_i_denominators.split()\n",
      "#b_hat_i_nums_list = b_hat_i_numerators.split()\n",
      "#b_hat_i_denoms_list = b_hat_i__denominators.split()"
     ],
     "language": "python",
     "metadata": {},
     "outputs": [],
     "prompt_number": 2
    },
    {
     "cell_type": "code",
     "collapsed": false,
     "input": [
      "beta_i_str = ''\n",
      "for i in range(8):\n",
      "    beta_i_str += ' beta' + str(i+1) + ' = ' + beta_i_nums_list[i] + './' + beta_i_denoms_list[i] + '.,'\n",
      "beta_i_str"
     ],
     "language": "python",
     "metadata": {},
     "outputs": [
      {
       "metadata": {},
       "output_type": "pyout",
       "prompt_number": 4,
       "text": [
        "' beta1 = 164505448./2653157365., beta2 = 0./1., beta3 = 9357192./40412735., beta4 = 736403089./7677655029., beta5 = 960089./17896194., beta6 = 482653907./11393392643., beta7 = -47281957./150822000., beta8 = 6715245221./20471724521.,'"
       ]
      }
     ],
     "prompt_number": 4
    },
    {
     "cell_type": "code",
     "collapsed": false,
     "input": [],
     "language": "python",
     "metadata": {},
     "outputs": []
    },
    {
     "cell_type": "code",
     "collapsed": false,
     "input": [],
     "language": "python",
     "metadata": {},
     "outputs": []
    },
    {
     "cell_type": "code",
     "collapsed": false,
     "input": [
      "c_i_nums = '0 771 771 3051 4331 4331 10463 10463 1'\n",
      "c_i_nums_list = c_i_nums.split()\n",
      "c_i_denoms = '1 3847 3847 6788 6516 6516 11400 11400 1'\n",
      "c_i_denoms_list = c_i_denoms.split()\n",
      "c_i_str = ''\n",
      "for i in range(9):\n",
      "    c_i_str += 'c' + str(i+1) + ' = ' + c_i_nums_list[i] + './' + c_i_denoms_list[i] + '., '\n",
      "c_i_str\n"
     ],
     "language": "python",
     "metadata": {},
     "outputs": [
      {
       "metadata": {},
       "output_type": "pyout",
       "prompt_number": 16,
       "text": [
        "'c1 = 0./1., c2 = 771./3847., c3 = 771./3847., c4 = 3051./6788., c5 = 4331./6516., c6 = 4331./6516., c7 = 10463./11400., c8 = 10463./11400., c9 = 1./1., '"
       ]
      }
     ],
     "prompt_number": 16
    },
    {
     "cell_type": "code",
     "collapsed": false,
     "input": [],
     "language": "python",
     "metadata": {},
     "outputs": []
    },
    {
     "cell_type": "code",
     "collapsed": false,
     "input": [
      "b_hat_i_str = ''\n",
      "for i in range(10):\n",
      "    b_hat_i_str += ' bhat' + str(i+1) + ' = ' + b_hat_i_nums_list[i] + './' + b_hat_i_denoms_list[i] + '.,'\n",
      "b_hat_i_str"
     ],
     "language": "python",
     "metadata": {},
     "outputs": []
    },
    {
     "cell_type": "code",
     "collapsed": false,
     "input": [],
     "language": "python",
     "metadata": {},
     "outputs": []
    },
    {
     "cell_type": "code",
     "collapsed": false,
     "input": [
      "bhat_nums = '53757362 0 -138687950 161961633 36242723 1 1147554103 -2395015001 1 23'\n",
      "bhat_dens = '127184461 1 204047369 188152853 103243418 2 9981952 20532034 1 100'\n",
      "bhat_nums_list = bhat_nums.split()\n",
      "bhat_dens_list = bhat_dens.split()\n",
      "bhat_str = ''\n",
      "b_err_str = ''\n",
      "b_err_declarations = ''\n",
      "for i in range(10):\n",
      "    bhat_str += ' bhat' + str(i+1) + ' = ' + bhat_nums_list[i] + './' + bhat_dens_list[i] + '.,'\n",
      "    b_err_str += ' berr' + str(i+1) + ' = b' + str(i+1) + ' - ' + bhat_nums_list[i] + './' + bhat_dens_list[i] + '.,'\n",
      "    b_err_declarations += ' berr' + str(i+1) + ', '\n",
      "b_err_declarations"
     ],
     "language": "python",
     "metadata": {},
     "outputs": [
      {
       "metadata": {},
       "output_type": "pyout",
       "prompt_number": 36,
       "text": [
        "' berr1,  berr2,  berr3,  berr4,  berr5,  berr6,  berr7,  berr8,  berr9,  berr10, '"
       ]
      }
     ],
     "prompt_number": 36
    },
    {
     "cell_type": "code",
     "collapsed": false,
     "input": [
      "betahat_nums = '53757362 0 -426604134200 605250622521 79190349755 2185 1075258194511 -2244129055937 0 0'\n",
      "betahat_dens = '127184461 1 784970228543 1277181566164 672734111688 13032 113794252800 234065187600 1 1'\n",
      "betahat_nums_list = betahat_nums.split()\n",
      "betahat_dens_list = betahat_dens.split()\n",
      "betahat_str = ''\n",
      "beta_err_str = ''\n",
      "beta_err_declarations = ''\n",
      "for i in range(10):\n",
      "    betahat_str += ' beta_hat' + str(i+1) + ' = ' + betahat_nums_list[i] + './' + betahat_dens_list[i] + '.,'\n",
      "    beta_err_str += ' beta_err' + str(i+1) + ' = beta' + str(i+1) + ' - ' + betahat_nums_list[i] + './' + betahat_dens_list[i] + '.,'\n",
      "    beta_err_declarations += ' beta_err' + str(i+1) + ', '\n",
      "beta_err_declarations"
     ],
     "language": "python",
     "metadata": {},
     "outputs": [
      {
       "metadata": {},
       "output_type": "pyout",
       "prompt_number": 37,
       "text": [
        "' beta_err1,  beta_err2,  beta_err3,  beta_err4,  beta_err5,  beta_err6,  beta_err7,  beta_err8,  beta_err9,  beta_err10, '"
       ]
      }
     ],
     "prompt_number": 37
    },
    {
     "cell_type": "code",
     "collapsed": false,
     "input": [],
     "language": "python",
     "metadata": {},
     "outputs": []
    },
    {
     "cell_type": "code",
     "collapsed": false,
     "input": [],
     "language": "python",
     "metadata": {},
     "outputs": []
    },
    {
     "cell_type": "code",
     "collapsed": false,
     "input": [
      "c_i_nums = '0 771 771 3051 4331 4331 10463 10463 1'\n",
      "c_i_nums_list = c_i_nums.split()\n",
      "c_i_denoms = '1 3847 3847 6788 6516 6516 11400 11400 1'\n",
      "c_i_denoms_list = c_i_denoms.split()\n",
      "C = map( lambda t: t[0] / t[1], zip(map(float,c_i_nums_list), map(float, c_i_denoms_list) ) )"
     ],
     "language": "python",
     "metadata": {},
     "outputs": [],
     "prompt_number": 7
    },
    {
     "cell_type": "code",
     "collapsed": false,
     "input": [
      "C"
     ],
     "language": "python",
     "metadata": {},
     "outputs": [
      {
       "metadata": {},
       "output_type": "pyout",
       "prompt_number": 8,
       "text": [
        "[0.0,\n",
        " 0.20041590850012997,\n",
        " 0.20041590850012997,\n",
        " 0.449469652327637,\n",
        " 0.6646715776550031,\n",
        " 0.6646715776550031,\n",
        " 0.9178070175438596,\n",
        " 0.9178070175438596,\n",
        " 1.0]"
       ]
      }
     ],
     "prompt_number": 8
    },
    {
     "cell_type": "code",
     "collapsed": false,
     "input": [
      "C += [1.0]"
     ],
     "language": "python",
     "metadata": {},
     "outputs": [],
     "prompt_number": 9
    },
    {
     "cell_type": "code",
     "collapsed": false,
     "input": [
      "C"
     ],
     "language": "python",
     "metadata": {},
     "outputs": [
      {
       "metadata": {},
       "output_type": "pyout",
       "prompt_number": 10,
       "text": [
        "[0.0,\n",
        " 0.20041590850012997,\n",
        " 0.20041590850012997,\n",
        " 0.449469652327637,\n",
        " 0.6646715776550031,\n",
        " 0.6646715776550031,\n",
        " 0.9178070175438596,\n",
        " 0.9178070175438596,\n",
        " 1.0,\n",
        " 1.0]"
       ]
      }
     ],
     "prompt_number": 10
    },
    {
     "cell_type": "code",
     "collapsed": false,
     "input": [
      "bhat_nums = '53757362 0 -138687950 161961633 36242723 1 1147554103 -2395015001 1 23'\n",
      "bhat_dens = '127184461 1 204047369 188152853 103243418 2 9981952 20532034 1 100'\n",
      "bhat_nums_list = bhat_nums.split()\n",
      "bhat_dens_list = bhat_dens.split()\n",
      "Bhat = map( lambda t: t[0] / t[1], zip(map(float,bhat_nums_list), map(float, bhat_dens_list) ) )"
     ],
     "language": "python",
     "metadata": {},
     "outputs": [],
     "prompt_number": 11
    },
    {
     "cell_type": "code",
     "collapsed": false,
     "input": [
      "Bhat"
     ],
     "language": "python",
     "metadata": {},
     "outputs": [
      {
       "metadata": {},
       "output_type": "pyout",
       "prompt_number": 12,
       "text": [
        "[0.42267240492531555,\n",
        " 0.0,\n",
        " -0.6796850686175718,\n",
        " 0.86079817774541,\n",
        " 0.35104148721616324,\n",
        " 0.5,\n",
        " 114.9628953334979,\n",
        " -116.64772233476722,\n",
        " 1.0,\n",
        " 0.23]"
       ]
      }
     ],
     "prompt_number": 12
    },
    {
     "cell_type": "code",
     "collapsed": false,
     "input": [
      "for l in range(1,5):\n",
      "    print l\n",
      "    print sum([ Bhat[i]*C[i]**(l-1) for i in range(10)])"
     ],
     "language": "python",
     "metadata": {},
     "outputs": [
      {
       "output_type": "stream",
       "stream": "stdout",
       "text": [
        "1\n",
        "1.0\n",
        "2\n",
        "0.5\n",
        "3\n",
        "0.333333333333\n",
        "4\n",
        "0.25\n"
       ]
      }
     ],
     "prompt_number": 15
    },
    {
     "cell_type": "raw",
     "metadata": {},
     "source": []
    },
    {
     "cell_type": "code",
     "collapsed": false,
     "input": [
      "A_i2_nums = [771,-9458865980,-2470367896,281630106828,-39924138556,-22636373880,72032427203]\n",
      "A_i2_denoms = [7694,12714902623,7636570485,143708239525,8175090533,4795132451,6782716235]"
     ],
     "language": "python",
     "metadata": {},
     "outputs": [],
     "prompt_number": 17
    },
    {
     "cell_type": "code",
     "collapsed": false,
     "input": [
      "A_i2 =  map( lambda t: t[0] / t[1], zip(map(float,A_i2_nums), map(float, A_i2_denoms) ) )"
     ],
     "language": "python",
     "metadata": {},
     "outputs": [],
     "prompt_number": 18
    },
    {
     "cell_type": "code",
     "collapsed": false,
     "input": [
      "A_i2"
     ],
     "language": "python",
     "metadata": {},
     "outputs": [
      {
       "metadata": {},
       "output_type": "pyout",
       "prompt_number": 19,
       "text": [
        "[0.10020795425006498,\n",
        " -0.743919655577216,\n",
        " -0.3234917952832855,\n",
        " 1.959735278637288,\n",
        " -4.883632590347486,\n",
        " -4.720698356367467,\n",
        " 10.619997167403245]"
       ]
      }
     ],
     "prompt_number": 19
    },
    {
     "cell_type": "code",
     "collapsed": false,
     "input": [
      "sum([Bhat[i]*(A_i2 + [0])[i-2] for i in range(2,10)])"
     ],
     "language": "python",
     "metadata": {},
     "outputs": [
      {
       "metadata": {},
       "output_type": "pyout",
       "prompt_number": 24,
       "text": [
        "1.5987211554602254e-13"
       ]
      }
     ],
     "prompt_number": 24
    },
    {
     "cell_type": "code",
     "collapsed": false,
     "input": [
      "Bhat"
     ],
     "language": "python",
     "metadata": {},
     "outputs": [
      {
       "metadata": {},
       "output_type": "pyout",
       "prompt_number": 23,
       "text": [
        "[0.42267240492531555,\n",
        " 0.0,\n",
        " -0.6796850686175718,\n",
        " 0.86079817774541,\n",
        " 0.35104148721616324,\n",
        " 0.5,\n",
        " 114.9628953334979,\n",
        " -116.64772233476722,\n",
        " 1.0,\n",
        " 0.23]"
       ]
      }
     ],
     "prompt_number": 23
    },
    {
     "cell_type": "code",
     "collapsed": false,
     "input": [],
     "language": "python",
     "metadata": {},
     "outputs": []
    },
    {
     "cell_type": "code",
     "collapsed": false,
     "input": [
      "b_i_numerators = '164505448 0 3042 1586146904 4394 2081836558 -50461 13928550541 91464477'\n",
      "b_i_denominators = '2653157365 1 10505 9104113535 27465 16479128289 13230 3490062596 8242174145'\n",
      "b_i_nums_list = b_i_numerators.split()\n",
      "b_i_denoms_list = b_i_denominators.split()\n",
      "B = map( lambda t: t[0] / t[1], zip(map(float,b_i_nums_list), map(float, b_i_denoms_list) ) )"
     ],
     "language": "python",
     "metadata": {},
     "outputs": [],
     "prompt_number": 37
    },
    {
     "cell_type": "code",
     "collapsed": false,
     "input": [
      "len(C), len(B)"
     ],
     "language": "python",
     "metadata": {},
     "outputs": [
      {
       "metadata": {},
       "output_type": "pyout",
       "prompt_number": 38,
       "text": [
        "(10, 9)"
       ]
      }
     ],
     "prompt_number": 38
    },
    {
     "cell_type": "code",
     "collapsed": false,
     "input": [
      "B += [0.]"
     ],
     "language": "python",
     "metadata": {},
     "outputs": [],
     "prompt_number": 39
    },
    {
     "cell_type": "code",
     "collapsed": false,
     "input": [],
     "language": "python",
     "metadata": {},
     "outputs": []
    },
    {
     "cell_type": "code",
     "collapsed": false,
     "input": [
      "for l in range(1,5):\n",
      "    print l\n",
      "    print sum([ B[i]*C[i]**(l-1) for i in range(10)])"
     ],
     "language": "python",
     "metadata": {},
     "outputs": [
      {
       "output_type": "stream",
       "stream": "stdout",
       "text": [
        "1\n",
        "1.0\n",
        "2\n",
        "0.5\n",
        "3\n",
        "0.333333333333\n",
        "4\n",
        "0.25\n"
       ]
      }
     ],
     "prompt_number": 40
    },
    {
     "cell_type": "code",
     "collapsed": false,
     "input": [],
     "language": "python",
     "metadata": {},
     "outputs": []
    },
    {
     "cell_type": "code",
     "collapsed": false,
     "input": [
      "sum([B[i]*(A_i2 + [0])[i-2] for i in range(2,10)])"
     ],
     "language": "python",
     "metadata": {},
     "outputs": [
      {
       "metadata": {},
       "output_type": "pyout",
       "prompt_number": 41,
       "text": [
        "-4.371503159461554e-15"
       ]
      }
     ],
     "prompt_number": 41
    },
    {
     "cell_type": "code",
     "collapsed": false,
     "input": [],
     "language": "python",
     "metadata": {},
     "outputs": []
    },
    {
     "cell_type": "code",
     "collapsed": false,
     "input": [
      "len(alpha_ij_numerators_list)"
     ],
     "language": "python",
     "metadata": {},
     "outputs": [
      {
       "metadata": {},
       "output_type": "pyout",
       "prompt_number": 56,
       "text": [
        "35"
       ]
      }
     ],
     "prompt_number": 56
    },
    {
     "cell_type": "code",
     "collapsed": false,
     "input": [],
     "language": "python",
     "metadata": {},
     "outputs": []
    },
    {
     "cell_type": "code",
     "collapsed": false,
     "input": [
      "Alpha = []\n",
      "counter = 0\n",
      "for i in range(8):\n",
      "    Alpha_row = []\n",
      "    for j in range(i):\n",
      "        Alpha_row += [float(alpha_ij_numerators_list[counter]) / float(alpha_ij_denominators_list[counter])]\n",
      "        counter += 1\n",
      "    Alpha += [Alpha_row]"
     ],
     "language": "python",
     "metadata": {},
     "outputs": [],
     "prompt_number": 53
    },
    {
     "cell_type": "code",
     "collapsed": true,
     "input": [
      "counter"
     ],
     "language": "python",
     "metadata": {},
     "outputs": [
      {
       "metadata": {},
       "output_type": "pyout",
       "prompt_number": 54,
       "text": [
        "28"
       ]
      }
     ],
     "prompt_number": 54
    },
    {
     "cell_type": "code",
     "collapsed": false,
     "input": [
      "for l in Alpha:\n",
      "    print l"
     ],
     "language": "python",
     "metadata": {},
     "outputs": [
      {
       "output_type": "stream",
       "stream": "stdout",
       "text": [
        "[]\n",
        "[0.020083268189966235]\n",
        "[0.020083268189966235, 0.0]\n",
        "[-0.010794360521496042, 0.015573670762866528, 0.09623217223489723]\n",
        "[0.0704375199450004, -0.0175563295188002, 0.11001953361458244, 0.05799342903041274]\n",
        "[0.0704375199450004, -17602445.146207973, 0.0881528746403206, 0.0, 229929851.0]\n",
        "[0.01584068406631684, 0.5615134060039492, 0.01722326831493887, 7.279860816771128e-08, 43937.933805126435, 0.014610276465137467]\n",
        "[0.01584068406631684, 0.5615134060039492, 0.01722326831493887, 7.279860816771128e-08, 43937.933805126435, 0.0, 164505448.0]\n"
       ]
      }
     ],
     "prompt_number": 55
    },
    {
     "cell_type": "code",
     "collapsed": false,
     "input": [],
     "language": "python",
     "metadata": {},
     "outputs": []
    }
   ],
   "metadata": {}
  }
 ]
}