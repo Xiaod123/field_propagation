{
 "metadata": {
  "name": "",
  "signature": "sha256:adaec301dddfe21ea08fc57158074a2c1f9174be733588e5b7c0287eb9d1ff73"
 },
 "nbformat": 3,
 "nbformat_minor": 0,
 "worksheets": [
  {
   "cells": [
    {
     "cell_type": "code",
     "collapsed": false,
     "input": [
      "import os\n",
      "import mayavi.mlab as mylab\n",
      "import numpy as np\n",
      "import random"
     ],
     "language": "python",
     "metadata": {},
     "outputs": [],
     "prompt_number": 3
    },
    {
     "cell_type": "code",
     "collapsed": false,
     "input": [
      "random.seed()"
     ],
     "language": "python",
     "metadata": {},
     "outputs": [],
     "prompt_number": 4
    },
    {
     "cell_type": "code",
     "collapsed": false,
     "input": [
      "# set to directory which contains modifiedtestH\n",
      "# it should be in BUILD/test/testSteppers/ where BUILD is the build directory of field_propagation (charwa branch)\n",
      "dirs = '/home/jason/Documents/Work/GSoC2015/CERN2/git3/field_propagation-build/test/testSteppers/'"
     ],
     "language": "python",
     "metadata": {},
     "outputs": [],
     "prompt_number": 37
    },
    {
     "cell_type": "code",
     "collapsed": false,
     "input": [
      "\n",
      "#Stepper No.\n",
      "# Not included in this version: 0: G4ExactHelixStepper\n",
      "#1: G4CashKarpRKF45\n",
      "#2: BogackiShampine23\n",
      "#3: DormandPrince745\n",
      "#4: BogackiShampine45\n",
      "#5: G4ClassicalRK4\n",
      "#6: G4SimpleHeum\n",
      "# Not included in this version: 7: BogackiShampine23modified (No renormalization inside of a step.)\n",
      "#8: ChawlaSharmaRKNstepper\n",
      "#9: ChawlaSharmaRKNstepper (Renormalization in between steps.)\n",
      "#10: ChawlaSharmaRKNstepperFullRenormalization\n",
      "#(Normalization in between steps, and inside of steps.)\n",
      "#11: G4NystromRK4\n",
      "#12: NystromRK4noNormalization\n"
     ],
     "language": "python",
     "metadata": {},
     "outputs": [],
     "prompt_number": 50
    },
    {
     "cell_type": "code",
     "collapsed": false,
     "input": [
      "def trajectory(ret, m, N):\n",
      "    A = []\n",
      "    for i in range(N):\n",
      "        string_array = ret.readline().replace('\\n','').split(',')\n",
      "        # print string_array\n",
      "        A += [map( lambda x: float(x), string_array )]\n",
      "    B = []\n",
      "    X = [A[j][0] for j in range(m,N)]\n",
      "    Y = [A[j][1] for j in range(m,N)]\n",
      "    Z = [A[j][2] for j in range(m,N)]\n",
      "    return (X,Y,Z)"
     ],
     "language": "python",
     "metadata": {},
     "outputs": [],
     "prompt_number": 25
    },
    {
     "cell_type": "code",
     "collapsed": false,
     "input": [
      "def stepper_comparison_plot(i, j, num_steps_i, num_steps_j, step_len, cutoff = 0, magfield_choice = 2):\n",
      "    ret = os.popen(dirs + 'modifiedtestH ' + str(i) + ' ' + str(num_steps_i) + ' ' + str(step_len) + ' ' + str(magfield_choice))\n",
      "    X1, Y1, Z1 = trajectory(ret, cutoff, num_steps_i)\n",
      "    ret = os.popen(dirs + 'modifiedtestH ' + str(j) + ' ' + str(num_steps_j) + ' ' + str(step_len) + ' ' + str(magfield_choice))\n",
      "    X2, Y2, Z2 = trajectory(ret, cutoff, num_steps_j)\n",
      "    mylab.figure()\n",
      "    mylab.plot3d(X1, Y1, Z1, tube_radius = 1, color = (1,0,0))\n",
      "    mylab.plot3d(X2, Y2, Z2, tube_radius = 1, color = (0,0,1))\n",
      "    mylab.title(\"stepper pair: \" + str((i,j)) + \" -- step_len: \" + str(step_len), height = .05, size = .35)\n",
      "    mylab.show()\n",
      "    return"
     ],
     "language": "python",
     "metadata": {},
     "outputs": [],
     "prompt_number": 45
    },
    {
     "cell_type": "code",
     "collapsed": false,
     "input": [
      "def stepper_plot_2_step_lens(i, num_steps1, num_steps2, step_len1, step_len2, cutoff = 0, magfield_choice = 2):\n",
      "    ret = os.popen(dirs + 'modifiedtestH ' + str(i) + ' ' + str(num_steps1) + ' ' + str(step_len1) + ' ' + str(magfield_choice))\n",
      "    X1, Y1, Z1 = trajectory(ret, cutoff, num_steps1)\n",
      "    ret = os.popen(dirs + 'modifiedtestH ' + str(i) + ' ' + str(num_steps2) + ' ' + str(step_len2) + ' ' + str(magfield_choice))\n",
      "    X2, Y2, Z2 = trajectory(ret, cutoff, num_steps2)\n",
      "    mylab.figure()\n",
      "    mylab.plot3d(X1, Y1, Z1, tube_radius = 1, color = (1,0,0))\n",
      "    mylab.plot3d(X2, Y2, Z2, tube_radius = 1, color = (0,0,1))\n",
      "    mylab.title(\"stepper No.: \" + str(i) + \" -- step_len pair: \" + str((step_len1, step_len2)), height = .05, size = .35)\n",
      "    mylab.show()\n",
      "    return"
     ],
     "language": "python",
     "metadata": {},
     "outputs": [],
     "prompt_number": 44
    },
    {
     "cell_type": "code",
     "collapsed": false,
     "input": [
      "stepper_plot_2_step_lens(8, 1000, 10000, 0.1, 0.01)"
     ],
     "language": "python",
     "metadata": {},
     "outputs": [],
     "prompt_number": 36
    },
    {
     "cell_type": "heading",
     "level": 1,
     "metadata": {},
     "source": [
      "stepper_plot_2_step_lens(1, 1000, 10000, 0.1, 0.01)"
     ]
    },
    {
     "cell_type": "code",
     "collapsed": false,
     "input": [
      "stepper_comparison_plot(2,8,10000,10000,.01)"
     ],
     "language": "python",
     "metadata": {},
     "outputs": [],
     "prompt_number": 57
    },
    {
     "cell_type": "code",
     "collapsed": false,
     "input": [],
     "language": "python",
     "metadata": {},
     "outputs": []
    }
   ],
   "metadata": {}
  }
 ]
}